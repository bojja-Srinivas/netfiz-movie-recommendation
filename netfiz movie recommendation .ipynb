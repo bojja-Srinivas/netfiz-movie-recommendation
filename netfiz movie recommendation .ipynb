{
 "cells": [
  {
   "cell_type": "code",
   "execution_count": 3,
   "id": "78fad0eb-32e1-4886-bf71-541b3231f70f",
   "metadata": {},
   "outputs": [],
   "source": [
    "import pandas as pd\n"
   ]
  },
  {
   "cell_type": "code",
   "execution_count": 5,
   "id": "f35debbd-6eca-4591-9d07-a26131904ac7",
   "metadata": {},
   "outputs": [],
   "source": [
    "movies_data=pd.read_csv(\"movies.csv\")\n",
    "links_data=pd.read_csv(\"links.csv\")\n",
    "ratings_data=pd.read_csv(\"ratings.csv\")\n",
    "tags_data=pd.read_csv(\"tags.csv\")"
   ]
  },
  {
   "cell_type": "code",
   "execution_count": 11,
   "id": "6c7cd529-a958-439c-a259-8ebef01f56f1",
   "metadata": {},
   "outputs": [],
   "source": [
    "combined_df = pd.merge(movies_data, links_data, on='movieId')\n",
    "combined_df_1 = pd.merge(combined_df, tags_data, on='movieId')\n",
    "data = pd.merge(combined_df_1, ratings_data, on='movieId')"
   ]
  },
  {
   "cell_type": "code",
   "execution_count": 21,
   "id": "f1380e50-c9d8-4186-a947-bd21772f0967",
   "metadata": {},
   "outputs": [
    {
     "name": "stdout",
     "output_type": "stream",
     "text": [
      "(9742, 3) (9742, 3) (100836, 4) (3683, 4)\n"
     ]
    }
   ],
   "source": [
    "print(movies_data.shape,links_data.shape,ratings_data.shape,tags_data.shape)"
   ]
  },
  {
   "cell_type": "code",
   "execution_count": 31,
   "id": "b42768f0-fa10-40b9-bee0-03bb09c99117",
   "metadata": {},
   "outputs": [
    {
     "data": {
      "text/plain": [
       "array([  1,   2,   3,   4,   5,   6,   7,   8,   9,  10,  11,  12,  13,\n",
       "        14,  15,  16,  17,  18,  19,  20,  21,  22,  23,  24,  25,  26,\n",
       "        27,  28,  29,  30,  31,  32,  33,  34,  35,  36,  37,  38,  39,\n",
       "        40,  41,  42,  43,  44,  45,  46,  47,  48,  49,  50,  51,  52,\n",
       "        53,  54,  55,  56,  57,  58,  59,  60,  61,  62,  63,  64,  65,\n",
       "        66,  67,  68,  69,  70,  71,  72,  73,  74,  75,  76,  77,  78,\n",
       "        79,  80,  81,  82,  83,  84,  85,  86,  87,  88,  89,  90,  91,\n",
       "        92,  93,  94,  95,  96,  97,  98,  99, 100, 101, 102, 103, 104,\n",
       "       105, 106, 107, 108, 109, 110, 111, 112, 113, 114, 115, 116, 117,\n",
       "       118, 119, 120, 121, 122, 123, 124, 125, 126, 127, 128, 129, 130,\n",
       "       131, 132, 133, 134, 135, 136, 137, 138, 139, 140, 141, 142, 143,\n",
       "       144, 145, 146, 147, 148, 149, 150, 151, 152, 153, 154, 155, 156,\n",
       "       157, 158, 159, 160, 161, 162, 163, 164, 165, 166, 167, 168, 169,\n",
       "       170, 171, 172, 173, 174, 175, 176, 177, 178, 179, 180, 181, 182,\n",
       "       183, 184, 185, 186, 187, 188, 189, 190, 191, 192, 193, 194, 195,\n",
       "       196, 197, 198, 199, 200, 201, 202, 203, 204, 205, 206, 207, 208,\n",
       "       209, 210, 211, 212, 213, 214, 215, 216, 217, 218, 219, 220, 221,\n",
       "       222, 223, 224, 225, 226, 227, 228, 229, 230, 231, 232, 233, 234,\n",
       "       235, 236, 237, 238, 239, 240, 241, 242, 243, 244, 245, 246, 247,\n",
       "       248, 249, 250, 251, 252, 253, 254, 255, 256, 257, 258, 259, 260,\n",
       "       261, 262, 263, 264, 265, 266, 267, 268, 269, 270, 271, 272, 273,\n",
       "       274, 275, 276, 277, 278, 279, 280, 281, 282, 283, 284, 285, 286,\n",
       "       287, 288, 289, 290, 291, 292, 293, 294, 295, 296, 297, 298, 299,\n",
       "       300, 301, 302, 303, 304, 305, 306, 307, 308, 309, 310, 311, 312,\n",
       "       313, 314, 315, 316, 317, 318, 319, 320, 321, 322, 323, 324, 325,\n",
       "       326, 327, 328, 329, 330, 331, 332, 333, 334, 335, 336, 337, 338,\n",
       "       339, 340, 341, 342, 343, 344, 345, 346, 347, 348, 349, 350, 351,\n",
       "       352, 353, 354, 355, 356, 357, 358, 359, 360, 361, 362, 363, 364,\n",
       "       365, 366, 367, 368, 369, 370, 371, 372, 373, 374, 375, 376, 377,\n",
       "       378, 379, 380, 381, 382, 383, 384, 385, 386, 387, 388, 389, 390,\n",
       "       391, 392, 393, 394, 395, 396, 397, 398, 399, 400, 401, 402, 403,\n",
       "       404, 405, 406, 407, 408, 409, 410, 411, 412, 413, 414, 415, 416,\n",
       "       417, 418, 419, 420, 421, 422, 423, 424, 425, 426, 427, 428, 429,\n",
       "       430, 431, 432, 433, 434, 435, 436, 437, 438, 439, 440, 441, 442,\n",
       "       443, 444, 445, 446, 447, 448, 449, 450, 451, 452, 453, 454, 455,\n",
       "       456, 457, 458, 459, 460, 461, 462, 463, 464, 465, 466, 467, 468,\n",
       "       469, 470, 471, 472, 473, 474, 475, 476, 477, 478, 479, 480, 481,\n",
       "       482, 483, 484, 485, 486, 487, 488, 489, 490, 491, 492, 493, 494,\n",
       "       495, 496, 497, 498, 499, 500, 501, 502, 503, 504, 505, 506, 507,\n",
       "       508, 509, 510, 511, 512, 513, 514, 515, 516, 517, 518, 519, 520,\n",
       "       521, 522, 523, 524, 525, 526, 527, 528, 529, 530, 531, 532, 533,\n",
       "       534, 535, 536, 537, 538, 539, 540, 541, 542, 543, 544, 545, 546,\n",
       "       547, 548, 549, 550, 551, 552, 553, 554, 555, 556, 557, 558, 559,\n",
       "       560, 561, 562, 563, 564, 565, 566, 567, 568, 569, 570, 571, 572,\n",
       "       573, 574, 575, 576, 577, 578, 579, 580, 581, 582, 583, 584, 585,\n",
       "       586, 587, 588, 589, 590, 591, 592, 593, 594, 595, 596, 597, 598,\n",
       "       599, 600, 601, 602, 603, 604, 605, 606, 607, 608, 609, 610],\n",
       "      dtype=int64)"
      ]
     },
     "execution_count": 31,
     "metadata": {},
     "output_type": "execute_result"
    }
   ],
   "source": [
    "ratings_data.userId.unique()"
   ]
  },
  {
   "cell_type": "code",
   "execution_count": 77,
   "id": "1dae95b4-f1dc-4d1f-b30b-6ff69ae5f68b",
   "metadata": {},
   "outputs": [
    {
     "name": "stdout",
     "output_type": "stream",
     "text": [
      "Index(['movieId', 'title', 'genres'], dtype='object') Index(['movieId', 'imdbId', 'tmdbId'], dtype='object') Index(['userId', 'movieId', 'rating', 'timestamp'], dtype='object') Index(['userId', 'movieId', 'tag', 'timestamp'], dtype='object')\n"
     ]
    }
   ],
   "source": [
    "print(movies_data.columns,links_data.columns,ratings_data.columns,tags_data.columns)"
   ]
  },
  {
   "cell_type": "code",
   "execution_count": 17,
   "id": "2d1708ef-8586-4cb3-9f2a-7a0f33d3f5f6",
   "metadata": {},
   "outputs": [
    {
     "data": {
      "text/html": [
       "<div>\n",
       "<style scoped>\n",
       "    .dataframe tbody tr th:only-of-type {\n",
       "        vertical-align: middle;\n",
       "    }\n",
       "\n",
       "    .dataframe tbody tr th {\n",
       "        vertical-align: top;\n",
       "    }\n",
       "\n",
       "    .dataframe thead th {\n",
       "        text-align: right;\n",
       "    }\n",
       "</style>\n",
       "<table border=\"1\" class=\"dataframe\">\n",
       "  <thead>\n",
       "    <tr style=\"text-align: right;\">\n",
       "      <th></th>\n",
       "      <th>movieId</th>\n",
       "      <th>title</th>\n",
       "      <th>genres</th>\n",
       "      <th>imdbId</th>\n",
       "      <th>tmdbId</th>\n",
       "      <th>userId_x</th>\n",
       "      <th>tag</th>\n",
       "      <th>timestamp_x</th>\n",
       "      <th>userId_y</th>\n",
       "      <th>rating</th>\n",
       "      <th>timestamp_y</th>\n",
       "    </tr>\n",
       "  </thead>\n",
       "  <tbody>\n",
       "    <tr>\n",
       "      <th>0</th>\n",
       "      <td>1</td>\n",
       "      <td>Toy Story (1995)</td>\n",
       "      <td>Adventure|Animation|Children|Comedy|Fantasy</td>\n",
       "      <td>114709</td>\n",
       "      <td>862.0</td>\n",
       "      <td>336</td>\n",
       "      <td>pixar</td>\n",
       "      <td>1139045764</td>\n",
       "      <td>1</td>\n",
       "      <td>4.0</td>\n",
       "      <td>964982703</td>\n",
       "    </tr>\n",
       "    <tr>\n",
       "      <th>1</th>\n",
       "      <td>1</td>\n",
       "      <td>Toy Story (1995)</td>\n",
       "      <td>Adventure|Animation|Children|Comedy|Fantasy</td>\n",
       "      <td>114709</td>\n",
       "      <td>862.0</td>\n",
       "      <td>336</td>\n",
       "      <td>pixar</td>\n",
       "      <td>1139045764</td>\n",
       "      <td>5</td>\n",
       "      <td>4.0</td>\n",
       "      <td>847434962</td>\n",
       "    </tr>\n",
       "    <tr>\n",
       "      <th>2</th>\n",
       "      <td>1</td>\n",
       "      <td>Toy Story (1995)</td>\n",
       "      <td>Adventure|Animation|Children|Comedy|Fantasy</td>\n",
       "      <td>114709</td>\n",
       "      <td>862.0</td>\n",
       "      <td>336</td>\n",
       "      <td>pixar</td>\n",
       "      <td>1139045764</td>\n",
       "      <td>7</td>\n",
       "      <td>4.5</td>\n",
       "      <td>1106635946</td>\n",
       "    </tr>\n",
       "    <tr>\n",
       "      <th>3</th>\n",
       "      <td>1</td>\n",
       "      <td>Toy Story (1995)</td>\n",
       "      <td>Adventure|Animation|Children|Comedy|Fantasy</td>\n",
       "      <td>114709</td>\n",
       "      <td>862.0</td>\n",
       "      <td>336</td>\n",
       "      <td>pixar</td>\n",
       "      <td>1139045764</td>\n",
       "      <td>15</td>\n",
       "      <td>2.5</td>\n",
       "      <td>1510577970</td>\n",
       "    </tr>\n",
       "    <tr>\n",
       "      <th>4</th>\n",
       "      <td>1</td>\n",
       "      <td>Toy Story (1995)</td>\n",
       "      <td>Adventure|Animation|Children|Comedy|Fantasy</td>\n",
       "      <td>114709</td>\n",
       "      <td>862.0</td>\n",
       "      <td>336</td>\n",
       "      <td>pixar</td>\n",
       "      <td>1139045764</td>\n",
       "      <td>17</td>\n",
       "      <td>4.5</td>\n",
       "      <td>1305696483</td>\n",
       "    </tr>\n",
       "  </tbody>\n",
       "</table>\n",
       "</div>"
      ],
      "text/plain": [
       "   movieId             title                                       genres  \\\n",
       "0        1  Toy Story (1995)  Adventure|Animation|Children|Comedy|Fantasy   \n",
       "1        1  Toy Story (1995)  Adventure|Animation|Children|Comedy|Fantasy   \n",
       "2        1  Toy Story (1995)  Adventure|Animation|Children|Comedy|Fantasy   \n",
       "3        1  Toy Story (1995)  Adventure|Animation|Children|Comedy|Fantasy   \n",
       "4        1  Toy Story (1995)  Adventure|Animation|Children|Comedy|Fantasy   \n",
       "\n",
       "   imdbId  tmdbId  userId_x    tag  timestamp_x  userId_y  rating  timestamp_y  \n",
       "0  114709   862.0       336  pixar   1139045764         1     4.0    964982703  \n",
       "1  114709   862.0       336  pixar   1139045764         5     4.0    847434962  \n",
       "2  114709   862.0       336  pixar   1139045764         7     4.5   1106635946  \n",
       "3  114709   862.0       336  pixar   1139045764        15     2.5   1510577970  \n",
       "4  114709   862.0       336  pixar   1139045764        17     4.5   1305696483  "
      ]
     },
     "execution_count": 17,
     "metadata": {},
     "output_type": "execute_result"
    }
   ],
   "source": [
    "data.head()"
   ]
  },
  {
   "cell_type": "code",
   "execution_count": 19,
   "id": "1b26376f-f788-4e62-9fd2-e91f7ba8c412",
   "metadata": {},
   "outputs": [
    {
     "name": "stdout",
     "output_type": "stream",
     "text": [
      "<class 'pandas.core.frame.DataFrame'>\n",
      "RangeIndex: 233213 entries, 0 to 233212\n",
      "Data columns (total 11 columns):\n",
      " #   Column       Non-Null Count   Dtype  \n",
      "---  ------       --------------   -----  \n",
      " 0   movieId      233213 non-null  int64  \n",
      " 1   title        233213 non-null  object \n",
      " 2   genres       233213 non-null  object \n",
      " 3   imdbId       233213 non-null  int64  \n",
      " 4   tmdbId       233213 non-null  float64\n",
      " 5   userId_x     233213 non-null  int64  \n",
      " 6   tag          233213 non-null  object \n",
      " 7   timestamp_x  233213 non-null  int64  \n",
      " 8   userId_y     233213 non-null  int64  \n",
      " 9   rating       233213 non-null  float64\n",
      " 10  timestamp_y  233213 non-null  int64  \n",
      "dtypes: float64(2), int64(6), object(3)\n",
      "memory usage: 19.6+ MB\n"
     ]
    }
   ],
   "source": [
    "data.info()"
   ]
  },
  {
   "cell_type": "code",
   "execution_count": 23,
   "id": "d18c7af9-28ef-401a-85f9-38cdbff2a57b",
   "metadata": {},
   "outputs": [
    {
     "data": {
      "text/plain": [
       "(233213, 11)"
      ]
     },
     "execution_count": 23,
     "metadata": {},
     "output_type": "execute_result"
    }
   ],
   "source": [
    "data.shape"
   ]
  },
  {
   "cell_type": "code",
   "execution_count": 29,
   "id": "c6d93e94-b5c7-4f2b-884d-f1a89748451d",
   "metadata": {},
   "outputs": [
    {
     "data": {
      "text/plain": [
       "0"
      ]
     },
     "execution_count": 29,
     "metadata": {},
     "output_type": "execute_result"
    }
   ],
   "source": [
    "data.duplicated().sum()"
   ]
  },
  {
   "cell_type": "code",
   "execution_count": 33,
   "id": "b9a09e34-dc3e-4a32-805d-6182f0fb6693",
   "metadata": {},
   "outputs": [
    {
     "data": {
      "text/html": [
       "<div>\n",
       "<style scoped>\n",
       "    .dataframe tbody tr th:only-of-type {\n",
       "        vertical-align: middle;\n",
       "    }\n",
       "\n",
       "    .dataframe tbody tr th {\n",
       "        vertical-align: top;\n",
       "    }\n",
       "\n",
       "    .dataframe thead th {\n",
       "        text-align: right;\n",
       "    }\n",
       "</style>\n",
       "<table border=\"1\" class=\"dataframe\">\n",
       "  <thead>\n",
       "    <tr style=\"text-align: right;\">\n",
       "      <th></th>\n",
       "      <th>movieId</th>\n",
       "      <th>imdbId</th>\n",
       "      <th>tmdbId</th>\n",
       "      <th>userId_x</th>\n",
       "      <th>timestamp_x</th>\n",
       "      <th>userId_y</th>\n",
       "      <th>rating</th>\n",
       "      <th>timestamp_y</th>\n",
       "    </tr>\n",
       "  </thead>\n",
       "  <tbody>\n",
       "    <tr>\n",
       "      <th>count</th>\n",
       "      <td>233213.000000</td>\n",
       "      <td>2.332130e+05</td>\n",
       "      <td>233213.000000</td>\n",
       "      <td>233213.000000</td>\n",
       "      <td>2.332130e+05</td>\n",
       "      <td>233213.000000</td>\n",
       "      <td>233213.000000</td>\n",
       "      <td>2.332130e+05</td>\n",
       "    </tr>\n",
       "    <tr>\n",
       "      <th>mean</th>\n",
       "      <td>12319.999443</td>\n",
       "      <td>2.610632e+05</td>\n",
       "      <td>9378.277742</td>\n",
       "      <td>470.683564</td>\n",
       "      <td>1.384774e+09</td>\n",
       "      <td>309.688191</td>\n",
       "      <td>3.966535</td>\n",
       "      <td>1.213524e+09</td>\n",
       "    </tr>\n",
       "    <tr>\n",
       "      <th>std</th>\n",
       "      <td>28243.919401</td>\n",
       "      <td>4.414411e+05</td>\n",
       "      <td>36943.139800</td>\n",
       "      <td>153.329632</td>\n",
       "      <td>1.534621e+08</td>\n",
       "      <td>178.206387</td>\n",
       "      <td>0.968637</td>\n",
       "      <td>2.250448e+08</td>\n",
       "    </tr>\n",
       "    <tr>\n",
       "      <th>min</th>\n",
       "      <td>1.000000</td>\n",
       "      <td>1.234900e+04</td>\n",
       "      <td>11.000000</td>\n",
       "      <td>2.000000</td>\n",
       "      <td>1.137179e+09</td>\n",
       "      <td>1.000000</td>\n",
       "      <td>0.500000</td>\n",
       "      <td>8.281246e+08</td>\n",
       "    </tr>\n",
       "    <tr>\n",
       "      <th>25%</th>\n",
       "      <td>296.000000</td>\n",
       "      <td>1.103570e+05</td>\n",
       "      <td>278.000000</td>\n",
       "      <td>424.000000</td>\n",
       "      <td>1.242494e+09</td>\n",
       "      <td>156.000000</td>\n",
       "      <td>3.500000</td>\n",
       "      <td>1.017365e+09</td>\n",
       "    </tr>\n",
       "    <tr>\n",
       "      <th>50%</th>\n",
       "      <td>1198.000000</td>\n",
       "      <td>1.109120e+05</td>\n",
       "      <td>680.000000</td>\n",
       "      <td>477.000000</td>\n",
       "      <td>1.457901e+09</td>\n",
       "      <td>309.000000</td>\n",
       "      <td>4.000000</td>\n",
       "      <td>1.217325e+09</td>\n",
       "    </tr>\n",
       "    <tr>\n",
       "      <th>75%</th>\n",
       "      <td>4638.000000</td>\n",
       "      <td>1.724950e+05</td>\n",
       "      <td>1892.000000</td>\n",
       "      <td>599.000000</td>\n",
       "      <td>1.498457e+09</td>\n",
       "      <td>460.000000</td>\n",
       "      <td>5.000000</td>\n",
       "      <td>1.443201e+09</td>\n",
       "    </tr>\n",
       "    <tr>\n",
       "      <th>max</th>\n",
       "      <td>193565.000000</td>\n",
       "      <td>5.580390e+06</td>\n",
       "      <td>503475.000000</td>\n",
       "      <td>610.000000</td>\n",
       "      <td>1.537099e+09</td>\n",
       "      <td>610.000000</td>\n",
       "      <td>5.000000</td>\n",
       "      <td>1.537799e+09</td>\n",
       "    </tr>\n",
       "  </tbody>\n",
       "</table>\n",
       "</div>"
      ],
      "text/plain": [
       "             movieId        imdbId         tmdbId       userId_x  \\\n",
       "count  233213.000000  2.332130e+05  233213.000000  233213.000000   \n",
       "mean    12319.999443  2.610632e+05    9378.277742     470.683564   \n",
       "std     28243.919401  4.414411e+05   36943.139800     153.329632   \n",
       "min         1.000000  1.234900e+04      11.000000       2.000000   \n",
       "25%       296.000000  1.103570e+05     278.000000     424.000000   \n",
       "50%      1198.000000  1.109120e+05     680.000000     477.000000   \n",
       "75%      4638.000000  1.724950e+05    1892.000000     599.000000   \n",
       "max    193565.000000  5.580390e+06  503475.000000     610.000000   \n",
       "\n",
       "        timestamp_x       userId_y         rating   timestamp_y  \n",
       "count  2.332130e+05  233213.000000  233213.000000  2.332130e+05  \n",
       "mean   1.384774e+09     309.688191       3.966535  1.213524e+09  \n",
       "std    1.534621e+08     178.206387       0.968637  2.250448e+08  \n",
       "min    1.137179e+09       1.000000       0.500000  8.281246e+08  \n",
       "25%    1.242494e+09     156.000000       3.500000  1.017365e+09  \n",
       "50%    1.457901e+09     309.000000       4.000000  1.217325e+09  \n",
       "75%    1.498457e+09     460.000000       5.000000  1.443201e+09  \n",
       "max    1.537099e+09     610.000000       5.000000  1.537799e+09  "
      ]
     },
     "execution_count": 33,
     "metadata": {},
     "output_type": "execute_result"
    }
   ],
   "source": [
    "data.describe()"
   ]
  },
  {
   "cell_type": "code",
   "execution_count": 35,
   "id": "ba97bdfe-1a1d-44ab-a5eb-3d244c57d1f0",
   "metadata": {},
   "outputs": [
    {
     "name": "stdout",
     "output_type": "stream",
     "text": [
      "genres\n",
      "Comedy|Crime|Drama|Thriller                   56851\n",
      "Action|Crime|Drama|Thriller                   16725\n",
      "Action|Adventure|Sci-Fi                       11939\n",
      "Drama                                          6242\n",
      "Comedy                                         5486\n",
      "                                              ...  \n",
      "Drama|Fantasy|Musical|Romance                     1\n",
      "Drama|Thriller|Western                            1\n",
      "Comedy|Crime|Drama|Musical|Mystery|Romance        1\n",
      "Crime|Drama|Film-Noir|Romance|Thriller            1\n",
      "Comedy|Crime|Drama|Mystery|Romance                1\n",
      "Name: count, Length: 370, dtype: int64\n"
     ]
    }
   ],
   "source": [
    "\n",
    "print(data['genres'].value_counts())"
   ]
  },
  {
   "cell_type": "code",
   "execution_count": 37,
   "id": "75469381-d5d7-4194-b134-78e229243d94",
   "metadata": {},
   "outputs": [
    {
     "data": {
      "image/png": "[encoded data removed]",
      "text/plain": [
       "<Figure size 640x480 with 1 Axes>"
      ]
     },
     "metadata": {},
     "output_type": "display_data"
    }
   ],
   "source": [
    "import matplotlib.pyplot as plt\n",
    "# Histogram\n",
    "plt.hist(data['rating'])\n",
    "plt.xlabel('Rating')\n",
    "plt.ylabel('Frequency')\n",
    "plt.show()\n"
   ]
  },
  {
   "cell_type": "code",
   "execution_count": 39,
   "id": "a5f42e48-6c54-4147-89ef-ee21a25ac7a5",
   "metadata": {},
   "outputs": [
    {
     "data": {
      "image/png": "[encoded data removed]",
      "text/plain": [
       "<Figure size 640x480 with 1 Axes>"
      ]
     },
     "metadata": {},
     "output_type": "display_data"
    }
   ],
   "source": [
    "\n",
    "# Scatter plot\n",
    "plt.scatter(data['rating'], data['timestamp_y'])\n",
    "plt.xlabel('Rating')\n",
    "plt.ylabel('Timestamp')\n",
    "plt.show()"
   ]
  },
  {
   "cell_type": "code",
   "execution_count": 41,
   "id": "ec14cd0d-acad-4bd5-8b0c-fa67dddf7fa5",
   "metadata": {},
   "outputs": [
    {
     "name": "stdout",
     "output_type": "stream",
     "text": [
      "The movie with the maximum number of ratings is: 356 - 329 ratings\n"
     ]
    }
   ],
   "source": [
    "\n",
    "movie_ratings = ratings_data.groupby('movieId').size().reset_index(name='num_ratings')\n",
    "\n",
    "# Find the movie with the maximum number of ratings\n",
    "most_rated_movie = movie_ratings.sort_values(by='num_ratings', ascending=False).iloc[0]\n",
    "\n",
    "# Print the movie title\n",
    "print(f\"The movie with the maximum number of ratings is: {most_rated_movie['movieId']} - {most_rated_movie['num_ratings']} ratings\")"
   ]
  },
  {
   "cell_type": "code",
   "execution_count": 45,
   "id": "7bf4d300-d5a3-4c3b-af5c-4d1f990f005e",
   "metadata": {},
   "outputs": [
    {
     "data": {
      "text/html": [
       "<div>\n",
       "<style scoped>\n",
       "    .dataframe tbody tr th:only-of-type {\n",
       "        vertical-align: middle;\n",
       "    }\n",
       "\n",
       "    .dataframe tbody tr th {\n",
       "        vertical-align: top;\n",
       "    }\n",
       "\n",
       "    .dataframe thead th {\n",
       "        text-align: right;\n",
       "    }\n",
       "</style>\n",
       "<table border=\"1\" class=\"dataframe\">\n",
       "  <thead>\n",
       "    <tr style=\"text-align: right;\">\n",
       "      <th></th>\n",
       "      <th>movieId</th>\n",
       "      <th>title</th>\n",
       "      <th>genres</th>\n",
       "      <th>imdbId</th>\n",
       "      <th>tmdbId</th>\n",
       "      <th>userId_x</th>\n",
       "      <th>tag</th>\n",
       "      <th>timestamp_x</th>\n",
       "      <th>userId_y</th>\n",
       "      <th>rating</th>\n",
       "      <th>timestamp_y</th>\n",
       "    </tr>\n",
       "  </thead>\n",
       "  <tbody>\n",
       "    <tr>\n",
       "      <th>82481</th>\n",
       "      <td>356</td>\n",
       "      <td>Forrest Gump (1994)</td>\n",
       "      <td>Comedy|Drama|Romance|War</td>\n",
       "      <td>109830</td>\n",
       "      <td>13.0</td>\n",
       "      <td>474</td>\n",
       "      <td>shrimp</td>\n",
       "      <td>1137375519</td>\n",
       "      <td>1</td>\n",
       "      <td>4.0</td>\n",
       "      <td>964980962</td>\n",
       "    </tr>\n",
       "    <tr>\n",
       "      <th>82482</th>\n",
       "      <td>356</td>\n",
       "      <td>Forrest Gump (1994)</td>\n",
       "      <td>Comedy|Drama|Romance|War</td>\n",
       "      <td>109830</td>\n",
       "      <td>13.0</td>\n",
       "      <td>474</td>\n",
       "      <td>shrimp</td>\n",
       "      <td>1137375519</td>\n",
       "      <td>6</td>\n",
       "      <td>5.0</td>\n",
       "      <td>845553200</td>\n",
       "    </tr>\n",
       "    <tr>\n",
       "      <th>82483</th>\n",
       "      <td>356</td>\n",
       "      <td>Forrest Gump (1994)</td>\n",
       "      <td>Comedy|Drama|Romance|War</td>\n",
       "      <td>109830</td>\n",
       "      <td>13.0</td>\n",
       "      <td>474</td>\n",
       "      <td>shrimp</td>\n",
       "      <td>1137375519</td>\n",
       "      <td>7</td>\n",
       "      <td>5.0</td>\n",
       "      <td>1106635915</td>\n",
       "    </tr>\n",
       "    <tr>\n",
       "      <th>82484</th>\n",
       "      <td>356</td>\n",
       "      <td>Forrest Gump (1994)</td>\n",
       "      <td>Comedy|Drama|Romance|War</td>\n",
       "      <td>109830</td>\n",
       "      <td>13.0</td>\n",
       "      <td>474</td>\n",
       "      <td>shrimp</td>\n",
       "      <td>1137375519</td>\n",
       "      <td>8</td>\n",
       "      <td>3.0</td>\n",
       "      <td>839463527</td>\n",
       "    </tr>\n",
       "    <tr>\n",
       "      <th>82485</th>\n",
       "      <td>356</td>\n",
       "      <td>Forrest Gump (1994)</td>\n",
       "      <td>Comedy|Drama|Romance|War</td>\n",
       "      <td>109830</td>\n",
       "      <td>13.0</td>\n",
       "      <td>474</td>\n",
       "      <td>shrimp</td>\n",
       "      <td>1137375519</td>\n",
       "      <td>10</td>\n",
       "      <td>3.5</td>\n",
       "      <td>1455301685</td>\n",
       "    </tr>\n",
       "    <tr>\n",
       "      <th>...</th>\n",
       "      <td>...</td>\n",
       "      <td>...</td>\n",
       "      <td>...</td>\n",
       "      <td>...</td>\n",
       "      <td>...</td>\n",
       "      <td>...</td>\n",
       "      <td>...</td>\n",
       "      <td>...</td>\n",
       "      <td>...</td>\n",
       "      <td>...</td>\n",
       "      <td>...</td>\n",
       "    </tr>\n",
       "    <tr>\n",
       "      <th>85437</th>\n",
       "      <td>356</td>\n",
       "      <td>Forrest Gump (1994)</td>\n",
       "      <td>Comedy|Drama|Romance|War</td>\n",
       "      <td>109830</td>\n",
       "      <td>13.0</td>\n",
       "      <td>567</td>\n",
       "      <td>touching</td>\n",
       "      <td>1525287539</td>\n",
       "      <td>605</td>\n",
       "      <td>3.0</td>\n",
       "      <td>1277097509</td>\n",
       "    </tr>\n",
       "    <tr>\n",
       "      <th>85438</th>\n",
       "      <td>356</td>\n",
       "      <td>Forrest Gump (1994)</td>\n",
       "      <td>Comedy|Drama|Romance|War</td>\n",
       "      <td>109830</td>\n",
       "      <td>13.0</td>\n",
       "      <td>567</td>\n",
       "      <td>touching</td>\n",
       "      <td>1525287539</td>\n",
       "      <td>606</td>\n",
       "      <td>4.0</td>\n",
       "      <td>1171231370</td>\n",
       "    </tr>\n",
       "    <tr>\n",
       "      <th>85439</th>\n",
       "      <td>356</td>\n",
       "      <td>Forrest Gump (1994)</td>\n",
       "      <td>Comedy|Drama|Romance|War</td>\n",
       "      <td>109830</td>\n",
       "      <td>13.0</td>\n",
       "      <td>567</td>\n",
       "      <td>touching</td>\n",
       "      <td>1525287539</td>\n",
       "      <td>608</td>\n",
       "      <td>3.0</td>\n",
       "      <td>1117162603</td>\n",
       "    </tr>\n",
       "    <tr>\n",
       "      <th>85440</th>\n",
       "      <td>356</td>\n",
       "      <td>Forrest Gump (1994)</td>\n",
       "      <td>Comedy|Drama|Romance|War</td>\n",
       "      <td>109830</td>\n",
       "      <td>13.0</td>\n",
       "      <td>567</td>\n",
       "      <td>touching</td>\n",
       "      <td>1525287539</td>\n",
       "      <td>609</td>\n",
       "      <td>4.0</td>\n",
       "      <td>847220869</td>\n",
       "    </tr>\n",
       "    <tr>\n",
       "      <th>85441</th>\n",
       "      <td>356</td>\n",
       "      <td>Forrest Gump (1994)</td>\n",
       "      <td>Comedy|Drama|Romance|War</td>\n",
       "      <td>109830</td>\n",
       "      <td>13.0</td>\n",
       "      <td>567</td>\n",
       "      <td>touching</td>\n",
       "      <td>1525287539</td>\n",
       "      <td>610</td>\n",
       "      <td>3.0</td>\n",
       "      <td>1493844769</td>\n",
       "    </tr>\n",
       "  </tbody>\n",
       "</table>\n",
       "<p>2961 rows × 11 columns</p>\n",
       "</div>"
      ],
      "text/plain": [
       "       movieId                title                    genres  imdbId  tmdbId  \\\n",
       "82481      356  Forrest Gump (1994)  Comedy|Drama|Romance|War  109830    13.0   \n",
       "82482      356  Forrest Gump (1994)  Comedy|Drama|Romance|War  109830    13.0   \n",
       "82483      356  Forrest Gump (1994)  Comedy|Drama|Romance|War  109830    13.0   \n",
       "82484      356  Forrest Gump (1994)  Comedy|Drama|Romance|War  109830    13.0   \n",
       "82485      356  Forrest Gump (1994)  Comedy|Drama|Romance|War  109830    13.0   \n",
       "...        ...                  ...                       ...     ...     ...   \n",
       "85437      356  Forrest Gump (1994)  Comedy|Drama|Romance|War  109830    13.0   \n",
       "85438      356  Forrest Gump (1994)  Comedy|Drama|Romance|War  109830    13.0   \n",
       "85439      356  Forrest Gump (1994)  Comedy|Drama|Romance|War  109830    13.0   \n",
       "85440      356  Forrest Gump (1994)  Comedy|Drama|Romance|War  109830    13.0   \n",
       "85441      356  Forrest Gump (1994)  Comedy|Drama|Romance|War  109830    13.0   \n",
       "\n",
       "       userId_x       tag  timestamp_x  userId_y  rating  timestamp_y  \n",
       "82481       474    shrimp   1137375519         1     4.0    964980962  \n",
       "82482       474    shrimp   1137375519         6     5.0    845553200  \n",
       "82483       474    shrimp   1137375519         7     5.0   1106635915  \n",
       "82484       474    shrimp   1137375519         8     3.0    839463527  \n",
       "82485       474    shrimp   1137375519        10     3.5   1455301685  \n",
       "...         ...       ...          ...       ...     ...          ...  \n",
       "85437       567  touching   1525287539       605     3.0   1277097509  \n",
       "85438       567  touching   1525287539       606     4.0   1171231370  \n",
       "85439       567  touching   1525287539       608     3.0   1117162603  \n",
       "85440       567  touching   1525287539       609     4.0    847220869  \n",
       "85441       567  touching   1525287539       610     3.0   1493844769  \n",
       "\n",
       "[2961 rows x 11 columns]"
      ]
     },
     "execution_count": 45,
     "metadata": {},
     "output_type": "execute_result"
    }
   ],
   "source": [
    "data[data['movieId']==356]"
   ]
  },
  {
   "cell_type": "code",
   "execution_count": 55,
   "id": "6215eecb-b49c-4543-a1d0-14fbe8b8a46d",
   "metadata": {},
   "outputs": [
    {
     "name": "stdout",
     "output_type": "stream",
     "text": [
      "Movie ID for Matrix, The (1999): 2959\n"
     ]
    }
   ],
   "source": [
    "\n",
    "movie_id = movies_data[movies_data['title'] == 'Fight Club (1999)']['movieId'].values[0]\n",
    "\n",
    "print(f\"Movie ID for Matrix, The (1999): {movie_id}\")\n"
   ]
  },
  {
   "cell_type": "code",
   "execution_count": 49,
   "id": "3aac1407-2070-4072-ba6e-2e190c360f8c",
   "metadata": {},
   "outputs": [
    {
     "name": "stdout",
     "output_type": "stream",
     "text": [
      "Tags for Matrix, The (1999):\n",
      "815           martial arts\n",
      "816                 sci-fi\n",
      "1646    alternate universe\n",
      "2794            philosophy\n",
      "2795      post apocalyptic\n",
      "Name: tag, dtype: object\n"
     ]
    }
   ],
   "source": [
    "matrix_movie_id = 2571  # Replace with the actual movie ID from your dataset\n",
    "\n",
    "# Filter tags for the movie\n",
    "matrix_tags = tags_data[tags_data['movieId'] == matrix_movie_id]['tag']\n",
    "\n",
    "# Print the tags\n",
    "print(\"Tags for Matrix, The (1999):\")\n",
    "print(matrix_tags)"
   ]
  },
  {
   "cell_type": "code",
   "execution_count": 53,
   "id": "32fdbe51-1fca-4e3b-9765-a2f330f71721",
   "metadata": {},
   "outputs": [
    {
     "name": "stdout",
     "output_type": "stream",
     "text": [
      "Average rating for Terminator 2: Judgment Day (1991): 3.970982142857143\n"
     ]
    }
   ],
   "source": [
    "\n",
    "terminator2_movie_id = 589  # Replace with the actual movie ID from your dataset\n",
    "\n",
    "# Filter ratings for the movie\n",
    "terminator2_ratings = ratings_data[ratings_data['movieId'] == terminator2_movie_id]['rating']\n",
    "\n",
    "# Calculate the average rating\n",
    "average_rating = terminator2_ratings.mean()\n",
    "\n",
    "# Print the average rating\n",
    "print(f\"Average rating for Terminator 2: Judgment Day (1991): {average_rating}\")"
   ]
  },
  {
   "cell_type": "code",
   "execution_count": 57,
   "id": "c2c819df-ddea-42cf-ad56-f5c5d5de9d31",
   "metadata": {},
   "outputs": [
    {
     "data": {
      "image/png": "[encoded data removed]",
      "text/plain": [
       "<Figure size 640x480 with 1 Axes>"
      ]
     },
     "metadata": {},
     "output_type": "display_data"
    }
   ],
   "source": [
    "\n",
    "fight_club_movie_id = 2959  # Replace with the actual movie ID from your dataset\n",
    "\n",
    "# Filter ratings for the movie\n",
    "fight_club_ratings = ratings_data[ratings_data['movieId'] == fight_club_movie_id]['rating']\n",
    "\n",
    "# Create a histogram\n",
    "plt.hist(fight_club_ratings, bins=10)\n",
    "plt.xlabel('Rating')\n",
    "plt.ylabel('Frequency')\n",
    "plt.title('Distribution of Ratings for Fight Club (1999)')\n",
    "plt.show()"
   ]
  },
  {
   "cell_type": "code",
   "execution_count": 59,
   "id": "eda242d9-0970-4a08-a549-dddeac8066ea",
   "metadata": {},
   "outputs": [],
   "source": [
    "\n",
    "grouped_ratings = ratings_data.groupby('movieId').agg({'rating': ['count', 'mean']}).reset_index()\n",
    "\n",
    "# Rename columns for clarity\n",
    "grouped_ratings.columns = ['movieId', 'num_ratings', 'avg_rating']\n",
    "\n",
    "# Inner join with movies data to get movie titles\n",
    "merged_df = pd.merge(movies_data, grouped_ratings, on='movieId')\n",
    "\n",
    "# Filter only movies with more than 50 ratings\n",
    "filtered_df = merged_df[merged_df['num_ratings'] > 50]\n",
    "\n",
    "# Now you can use the filtered_df for further analysis and answering questions"
   ]
  },
  {
   "cell_type": "code",
   "execution_count": 61,
   "id": "a8f24de4-f2e0-461b-acb4-408b79345f54",
   "metadata": {},
   "outputs": [
    {
     "name": "stdout",
     "output_type": "stream",
     "text": [
      "Most popular movie based on average user ratings:\n",
      "Shawshank Redemption, The (1994)\n"
     ]
    }
   ],
   "source": [
    "# Assuming you've already performed the mandatory operations and have the filtered_df\n",
    "most_popular_movie = filtered_df.sort_values(by='avg_rating', ascending=False).iloc[0]\n",
    "\n",
    "print(\"Most popular movie based on average user ratings:\")\n",
    "print(most_popular_movie['title'])"
   ]
  },
  {
   "cell_type": "code",
   "execution_count": 63,
   "id": "0389eae9-6b0a-4f2e-96b3-600d027f5c85",
   "metadata": {},
   "outputs": [
    {
     "name": "stdout",
     "output_type": "stream",
     "text": [
      "Top 5 popular movies based on number of user ratings:\n",
      "                                 title  num_ratings\n",
      "314                Forrest Gump (1994)          329\n",
      "277   Shawshank Redemption, The (1994)          317\n",
      "257                Pulp Fiction (1994)          307\n",
      "510   Silence of the Lambs, The (1991)          279\n",
      "1938                Matrix, The (1999)          278\n"
     ]
    }
   ],
   "source": [
    "# Assuming you've already performed the mandatory operations and have the filtered_df\n",
    "top_5_movies = filtered_df.sort_values(by='num_ratings', ascending=False).head(5)\n",
    "\n",
    "print(\"Top 5 popular movies based on number of user ratings:\")\n",
    "print(top_5_movies[['title', 'num_ratings']])"
   ]
  },
  {
   "cell_type": "code",
   "execution_count": 65,
   "id": "fde74b74-ae92-4ab7-bc43-e64dcd4f86b3",
   "metadata": {},
   "outputs": [
    {
     "name": "stdout",
     "output_type": "stream",
     "text": [
      "Third most popular Sci-Fi movie based on number of user ratings:\n",
      "Jurassic Park (1993)\n"
     ]
    }
   ],
   "source": [
    "# Assuming you've already performed the mandatory operations and have the filtered_df\n",
    "\n",
    "# Filter for Sci-Fi movies\n",
    "sci_fi_movies = filtered_df[filtered_df['genres'].str.contains('Sci-Fi')]\n",
    "\n",
    "# Sort by number of ratings and select the third most popular\n",
    "third_most_popular_sci_fi = sci_fi_movies.sort_values(by='num_ratings', ascending=False).iloc[2]\n",
    "\n",
    "print(\"Third most popular Sci-Fi movie based on number of user ratings:\")\n",
    "print(third_most_popular_sci_fi['title'])"
   ]
  },
  {
   "cell_type": "code",
   "execution_count": 73,
   "id": "ee515b43-cc5e-4e73-9b10-f12e4b30afbf",
   "metadata": {},
   "outputs": [
    {
     "name": "stdout",
     "output_type": "stream",
     "text": [
      "<class 'pandas.core.frame.DataFrame'>\n",
      "RangeIndex: 233213 entries, 0 to 233212\n",
      "Data columns (total 11 columns):\n",
      " #   Column       Non-Null Count   Dtype  \n",
      "---  ------       --------------   -----  \n",
      " 0   movieId      233213 non-null  int64  \n",
      " 1   title        233213 non-null  object \n",
      " 2   genres       233213 non-null  object \n",
      " 3   imdbId       233213 non-null  int64  \n",
      " 4   tmdbId       233213 non-null  float64\n",
      " 5   userId_x     233213 non-null  int64  \n",
      " 6   tag          233213 non-null  object \n",
      " 7   timestamp_x  233213 non-null  int64  \n",
      " 8   userId_y     233213 non-null  int64  \n",
      " 9   rating       233213 non-null  float64\n",
      " 10  timestamp_y  233213 non-null  int64  \n",
      "dtypes: float64(2), int64(6), object(3)\n",
      "memory usage: 19.6+ MB\n"
     ]
    }
   ],
   "source": [
    "merged_data.info()"
   ]
  },
  {
   "cell_type": "code",
   "execution_count": 79,
   "id": "3c70d2a8-b34f-4e75-a83b-7f0db8b6042f",
   "metadata": {},
   "outputs": [
    {
     "name": "stdout",
     "output_type": "stream",
     "text": [
      "Movie ID with the highest IMDB rating: 1198\n"
     ]
    }
   ],
   "source": [
    "\n",
    "filtered_data = merged_data[merged_data['imdbId'].notnull()].sort_values(by='rating', ascending=False)\n",
    "\n",
    "# Get the movie ID with the highest IMDB rating\n",
    "highest_rated_movie_id = filtered_data['movieId'].iloc[0]\n",
    "\n",
    "print(\"Movie ID with the highest IMDB rating:\", highest_rated_movie_id)"
   ]
  },
  {
   "cell_type": "code",
   "execution_count": 81,
   "id": "bc281acc-9f2a-46c4-a2ac-cd01d72141da",
   "metadata": {},
   "outputs": [
    {
     "name": "stdout",
     "output_type": "stream",
     "text": [
      "Movie ID with the highest IMDB rating: 1198\n"
     ]
    }
   ],
   "source": [
    "import pandas as pd\n",
    "\n",
    "# Load your merged dataset\n",
    "merged_data = data.copy()  # Replace with your actual file path\n",
    "\n",
    "# Filter for movies with valid IMDB IDs and sort by IMDB rating\n",
    "filtered_data = merged_data[merged_data['imdbId'].notnull()].sort_values(by='rating', ascending=False)\n",
    "\n",
    "# Get the movie ID with the highest IMDB rating\n",
    "highest_rated_movie_id = filtered_data['movieId'].iloc[0]\n",
    "\n",
    "print(\"Movie ID with the highest IMDB rating:\", highest_rated_movie_id)"
   ]
  },
  {
   "cell_type": "code",
   "execution_count": 83,
   "id": "abd5cf5f-5a90-4f02-be70-b150c29869e0",
   "metadata": {},
   "outputs": [
    {
     "name": "stdout",
     "output_type": "stream",
     "text": [
      "Movie ID with the highest IMDB rating: 1196\n"
     ]
    }
   ],
   "source": [
    "\n",
    "sci_fi_movies = merged_data[merged_data['genres'].str.contains('Sci-Fi')]\n",
    "\n",
    "# Sort by IMDB rating and select the top movie\n",
    "highest_rated_sci_fi = sci_fi_movies.sort_values(by='rating', ascending=False).iloc[0]\n",
    "\n",
    "# Get the movie ID\n",
    "movie_id = highest_rated_sci_fi['movieId']\n",
    "\n",
    "print(\"Movie ID with the highest IMDB rating:\", movie_id)"
   ]
  },
  {
   "cell_type": "code",
   "execution_count": 85,
   "id": "53382a34-ed57-45a6-8d9f-add8ca1d796e",
   "metadata": {},
   "outputs": [
    {
     "name": "stdout",
     "output_type": "stream",
     "text": [
      "Movie ID with the highest IMDB rating: 1198\n"
     ]
    }
   ],
   "source": [
    "\n",
    "filtered_data = merged_data[merged_data['imdbId'].notnull()].sort_values(by='rating', ascending=False)\n",
    "\n",
    "# Get the movie ID with the highest IMDB rating\n",
    "highest_rated_movie_id = filtered_data['movieId'].iloc[0]\n",
    "\n",
    "print(\"Movie ID with the highest IMDB rating:\", highest_rated_movie_id)"
   ]
  },
  {
   "cell_type": "code",
   "execution_count": null,
   "id": "30f1e8eb-0d5f-4b51-aea7-82ec47a45289",
   "metadata": {},
   "outputs": [],
   "source": []
  }
 ],
 "metadata": {
  "kernelspec": {
   "display_name": "Python 3 (ipykernel)",
   "language": "python",
   "name": "python3"
  },
  "language_info": {
   "codemirror_mode": {
    "name": "ipython",
    "version": 3
   },
   "file_extension": ".py",
   "mimetype": "text/x-python",
   "name": "python",
   "nbconvert_exporter": "python",
   "pygments_lexer": "ipython3",
   "version": "3.12.4"
  }
 },
 "nbformat": 4,
 "nbformat_minor": 5
}
